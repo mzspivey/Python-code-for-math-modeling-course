{
 "cells": [
  {
   "cell_type": "code",
   "execution_count": 3,
   "id": "d0e8dd9a-2ef3-4ca8-8e91-b0a51ea17ec0",
   "metadata": {},
   "outputs": [
    {
     "name": "stdout",
     "output_type": "stream",
     "text": [
      "[0, 1, 1, 2, 3, 5, 8, 13, 21, 34, 55, 89, 144, 233, 377]\n",
      "[0, 1, 0, 2, 3, 5, 8, 13, 21, 34, 55, 89, 144, 233, 377]\n",
      "[0.0, 1.0, 0.9999999999999999, 2.0, 3.0000000000000004, 5.0, 8.000000000000002, 13.000000000000004, 21.000000000000004, 34.000000000000014, 55.00000000000002, 89.00000000000003, 144.00000000000006, 233.00000000000006, 377.00000000000017]\n"
     ]
    }
   ],
   "source": [
    "# This code generates the Fibonacci sequence in two different ways: (1) using the recursive definition, (2) using the explicit formula.\n",
    "\n",
    "import matplotlib.pyplot as plt\n",
    "import math\n",
    "\n",
    "maxvals = 15\n",
    "Fibonacci = [0]*maxvals\n",
    "Fibonacci[0] = 0\n",
    "Fibonacci[1] = 1\n",
    "\n",
    "Phi = (1+math.sqrt(5))/2\n",
    "phi = (1-math.sqrt(5))/2\n",
    "\n",
    "FibPredict = [Phi**n/math.sqrt(5) - phi**n/math.sqrt(5) for n in range(maxvals)]\n",
    "FibPredictRound = [int(x) for x in FibPredict]\n",
    "\n",
    "for i in range(2,maxvals):\n",
    "    Fibonacci[i] = Fibonacci[i-1] + Fibonacci[i-2]\n",
    "\n",
    "print(Fibonacci)\n",
    "print(FibPredictRound)\n",
    "print(FibPredict)"
   ]
  },
  {
   "cell_type": "code",
   "execution_count": null,
   "id": "755b8e32-5824-4add-83f4-8f0f26d79fb4",
   "metadata": {},
   "outputs": [],
   "source": []
  }
 ],
 "metadata": {
  "kernelspec": {
   "display_name": "Python 3 (ipykernel)",
   "language": "python",
   "name": "python3"
  },
  "language_info": {
   "codemirror_mode": {
    "name": "ipython",
    "version": 3
   },
   "file_extension": ".py",
   "mimetype": "text/x-python",
   "name": "python",
   "nbconvert_exporter": "python",
   "pygments_lexer": "ipython3",
   "version": "3.8.5"
  }
 },
 "nbformat": 4,
 "nbformat_minor": 5
}
