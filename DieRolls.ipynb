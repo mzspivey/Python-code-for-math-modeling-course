{
 "cells": [
  {
   "cell_type": "code",
   "execution_count": 2,
   "id": "5ccd252f-7c90-4162-9e08-02a47c235d73",
   "metadata": {},
   "outputs": [
    {
     "name": "stdout",
     "output_type": "stream",
     "text": [
      "[5 6 2 5 6 5 4 3 1 2]\n",
      "39\n"
     ]
    }
   ],
   "source": [
    "# This is a simple example illustrating how to generate random numbers.  \n",
    "# It produces a distribution for the sum of ten rolls of a fair, six-sided die.\n",
    "\n",
    "import numpy as np\n",
    "rng = np.random.default_rng()\n",
    "\n",
    "intarray = rng.integers(1,6,size=10,endpoint=True) # Create an array of 10 integers between 1 and 6.\n",
    "\n",
    "print(intarray)\n",
    "print(np.sum(intarray))"
   ]
  },
  {
   "cell_type": "code",
   "execution_count": 3,
   "id": "aba7337c-e446-4fc8-ba10-3b9950396131",
   "metadata": {},
   "outputs": [
    {
     "data": {
      "image/png": "[encoded data removed]",
      "text/plain": [
       "<Figure size 432x288 with 1 Axes>"
      ]
     },
     "metadata": {
      "needs_background": "light"
     },
     "output_type": "display_data"
    }
   ],
   "source": [
    "import matplotlib.pyplot as plt\n",
    "\n",
    "intmatrix = rng.integers(1,6,size=(100,10),endpoint=True)  # Create a matrix of 100 rows, each row of which contains 10 random integers between 1 and 6.\n",
    "\n",
    "intsums = np.sum(intmatrix,axis=1)  # Sum the rows of each matrix.\n",
    "\n",
    "#print(intmatrix)\n",
    "\n",
    "plt.hist(intsums)\n",
    "plt.show()"
   ]
  },
  {
   "cell_type": "code",
   "execution_count": 4,
   "id": "29f65692-d682-4550-9cfb-1ee8a65908ad",
   "metadata": {},
   "outputs": [
    {
     "data": {
      "text/plain": [
       "34.93"
      ]
     },
     "execution_count": 4,
     "metadata": {},
     "output_type": "execute_result"
    }
   ],
   "source": [
    "np.mean(intsums)"
   ]
  },
  {
   "cell_type": "code",
   "execution_count": 5,
   "id": "c392f280-8a36-44cd-93fe-693ff420cd79",
   "metadata": {},
   "outputs": [
    {
     "data": {
      "text/plain": [
       "5.965324802556857"
      ]
     },
     "execution_count": 5,
     "metadata": {},
     "output_type": "execute_result"
    }
   ],
   "source": [
    "np.std(intsums)"
   ]
  },
  {
   "cell_type": "code",
   "execution_count": 6,
   "id": "299e18e1-f873-457c-ad38-f0f280ba613e",
   "metadata": {},
   "outputs": [
    {
     "data": {
      "text/plain": [
       "50"
      ]
     },
     "execution_count": 6,
     "metadata": {},
     "output_type": "execute_result"
    }
   ],
   "source": [
    "max(intsums)"
   ]
  },
  {
   "cell_type": "code",
   "execution_count": null,
   "id": "b5f9b437-46bf-4d64-b2a6-08c2d3a937c7",
   "metadata": {},
   "outputs": [],
   "source": []
  }
 ],
 "metadata": {
  "kernelspec": {
   "display_name": "Python 3 (ipykernel)",
   "language": "python",
   "name": "python3"
  },
  "language_info": {
   "codemirror_mode": {
    "name": "ipython",
    "version": 3
   },
   "file_extension": ".py",
   "mimetype": "text/x-python",
   "name": "python",
   "nbconvert_exporter": "python",
   "pygments_lexer": "ipython3",
   "version": "3.8.5"
  }
 },
 "nbformat": 4,
 "nbformat_minor": 5
}
