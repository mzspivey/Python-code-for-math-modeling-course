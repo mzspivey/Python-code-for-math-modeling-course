{
 "cells": [
  {
   "cell_type": "code",
   "execution_count": 18,
   "id": "86cee428-ad9e-45f8-8025-4ed705ef7fa1",
   "metadata": {},
   "outputs": [
    {
     "data": {
      "text/plain": [
       "[<matplotlib.lines.Line2D at 0x28e3ca35100>]"
      ]
     },
     "execution_count": 18,
     "metadata": {},
     "output_type": "execute_result"
    },
    {
     "data": {
      "image/png": "[encoded data removed]",
      "text/plain": [
       "<Figure size 432x288 with 1 Axes>"
      ]
     },
     "metadata": {
      "needs_background": "light"
     },
     "output_type": "display_data"
    }
   ],
   "source": [
    "# This code illustrates the long-term behavior of a Markov chain featuring customer preferences in beer, \n",
    "# including the calculation of the steady-state vector as an eigenvector corresponding to an eigenvalue of 1.\n",
    "\n",
    "import matplotlib.pyplot as plt\n",
    "\n",
    "maxvals = 50\n",
    "A = [0]*maxvals\n",
    "B = [0]*maxvals\n",
    "C = [0]*maxvals\n",
    "\n",
    "A[0] = 0\n",
    "B[0] = 0\n",
    "C[0] = 1\n",
    "\n",
    "for i in range(maxvals-1):\n",
    "    A[i+1] = 0.7*A[i] + 0.2*B[i] + 0.1*C[i]\n",
    "    B[i+1] = 0.25*A[i] + 0.75*B[i] + 0.1*C[i]\n",
    "    C[i+1] = 0.05*A[i] + 0.05*B[i] + 0.8*C[i]\n",
    "\n",
    "plt.plot(A)\n",
    "plt.plot(B)\n",
    "plt.plot(C)"
   ]
  },
  {
   "cell_type": "code",
   "execution_count": 19,
   "id": "14f49481-549b-4925-94f2-3ace1032d63a",
   "metadata": {
    "tags": []
   },
   "outputs": [
    {
     "data": {
      "text/plain": [
       "0.3599997583694267"
      ]
     },
     "execution_count": 19,
     "metadata": {},
     "output_type": "execute_result"
    }
   ],
   "source": [
    "A[maxvals-1]"
   ]
  },
  {
   "cell_type": "code",
   "execution_count": 20,
   "id": "74b3ba52-a7af-4b5c-afc0-79b6da7af157",
   "metadata": {},
   "outputs": [
    {
     "data": {
      "text/plain": [
       "0.43999963755414023"
      ]
     },
     "execution_count": 20,
     "metadata": {},
     "output_type": "execute_result"
    }
   ],
   "source": [
    "B[maxvals-1]"
   ]
  },
  {
   "cell_type": "code",
   "execution_count": 21,
   "id": "241da859-cb25-4239-b9cb-b2e2946285be",
   "metadata": {},
   "outputs": [
    {
     "data": {
      "text/plain": [
       "0.20000060407643372"
      ]
     },
     "execution_count": 21,
     "metadata": {},
     "output_type": "execute_result"
    }
   ],
   "source": [
    "C[maxvals-1]"
   ]
  },
  {
   "cell_type": "code",
   "execution_count": 26,
   "id": "a57ba305-ef04-413d-a9aa-bbeaf50a09fa",
   "metadata": {},
   "outputs": [
    {
     "name": "stdout",
     "output_type": "stream",
     "text": [
      "[[0.36000005 0.44000007 0.19999989]\n",
      " [0.36000005 0.44000007 0.19999989]\n",
      " [0.35999982 0.43999973 0.20000045]]\n"
     ]
    }
   ],
   "source": [
    "import numpy as np\n",
    "from numpy.linalg import matrix_power\n",
    "\n",
    "T = np.array([[0.7, 0.25, 0.05], [0.2, 0.75, 0.05], [0.1, 0.1, 0.8]])\n",
    "print(matrix_power(T,maxvals))"
   ]
  },
  {
   "cell_type": "code",
   "execution_count": 24,
   "id": "b8c7286c-eb0d-4512-a4dc-bbc25da0dc7c",
   "metadata": {},
   "outputs": [
    {
     "name": "stdout",
     "output_type": "stream",
     "text": [
      "[1.   0.5  0.75]\n",
      "[[-5.97350980e-01 -7.07106781e-01 -3.24442842e-01]\n",
      " [-7.30095643e-01  7.07106781e-01 -4.86664263e-01]\n",
      " [-3.31861656e-01 -2.83855301e-17  8.11107106e-01]]\n"
     ]
    }
   ],
   "source": [
    "from numpy.linalg import eig\n",
    "[eigvals, eigvecs] = eig(T.transpose())\n",
    "print(eigvals)\n",
    "print(eigvecs)"
   ]
  },
  {
   "cell_type": "code",
   "execution_count": 27,
   "id": "2e0061dd-ad7b-4d78-96d9-c67d820b163e",
   "metadata": {},
   "outputs": [],
   "source": [
    "eigvec = eigvecs.transpose()[0]  "
   ]
  },
  {
   "cell_type": "code",
   "execution_count": 15,
   "id": "6a486e08-a6af-4fac-914d-88bf6f66e934",
   "metadata": {},
   "outputs": [
    {
     "data": {
      "text/plain": [
       "array([-0.59735098, -0.73009564, -0.33186166])"
      ]
     },
     "execution_count": 15,
     "metadata": {},
     "output_type": "execute_result"
    }
   ],
   "source": [
    "eigvec"
   ]
  },
  {
   "cell_type": "code",
   "execution_count": 16,
   "id": "e900b897-d382-4bb3-881c-c4f14f07fe82",
   "metadata": {},
   "outputs": [
    {
     "data": {
      "text/plain": [
       "array([0.36, 0.44, 0.2 ])"
      ]
     },
     "execution_count": 16,
     "metadata": {},
     "output_type": "execute_result"
    }
   ],
   "source": [
    "eigvec/sum(eigvec)"
   ]
  },
  {
   "cell_type": "code",
   "execution_count": null,
   "id": "46d9ca94-5166-42a6-a04d-0815b61a0747",
   "metadata": {},
   "outputs": [],
   "source": []
  }
 ],
 "metadata": {
  "kernelspec": {
   "display_name": "Python 3 (ipykernel)",
   "language": "python",
   "name": "python3"
  },
  "language_info": {
   "codemirror_mode": {
    "name": "ipython",
    "version": 3
   },
   "file_extension": ".py",
   "mimetype": "text/x-python",
   "name": "python",
   "nbconvert_exporter": "python",
   "pygments_lexer": "ipython3",
   "version": "3.8.5"
  }
 },
 "nbformat": 4,
 "nbformat_minor": 5
}
