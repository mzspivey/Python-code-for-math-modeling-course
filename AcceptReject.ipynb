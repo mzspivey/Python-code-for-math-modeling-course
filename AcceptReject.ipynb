{
 "cells": [
  {
   "cell_type": "code",
   "execution_count": 13,
   "id": "872deacc-4e12-4187-b60d-f576dd4bec45",
   "metadata": {},
   "outputs": [
    {
     "name": "stdout",
     "output_type": "stream",
     "text": [
      "[ 4.15979527 -0.41177723  1.88407386 ... -1.54891628  4.55134539\n",
      "  2.65018161]\n"
     ]
    }
   ],
   "source": [
    "# This code illustrates the acceptance-rejection method for generating random variates from a given probability distribution.\n",
    "# The normal distribution is featured here.\n",
    "\n",
    "import numpy as np\n",
    "rng = np.random.default_rng()\n",
    "\n",
    "nums = 1000000\n",
    "\n",
    "randarray1 = rng.uniform(-5,5,size = nums)\n",
    "print(randarray1)"
   ]
  },
  {
   "cell_type": "code",
   "execution_count": 14,
   "id": "4ff93407-5b0f-4cfd-948a-78a88aba9502",
   "metadata": {},
   "outputs": [
    {
     "name": "stdout",
     "output_type": "stream",
     "text": [
      "0.3989422804014327\n"
     ]
    }
   ],
   "source": [
    "import math\n",
    "\n",
    "maxf = 1/math.sqrt(2*math.pi)  # This is the largest possible value of a standard normal(0,1) density function, e^(-x^2/2)/sqrt(2*Pi).\n",
    "print(maxf)"
   ]
  },
  {
   "cell_type": "code",
   "execution_count": 15,
   "id": "67a800e0-a0a7-43d1-9bf7-71b8ee20aff1",
   "metadata": {},
   "outputs": [],
   "source": [
    "randarray2 = rng.uniform(0,maxf,size = nums)\n",
    "#print(randarray2)"
   ]
  },
  {
   "cell_type": "code",
   "execution_count": 16,
   "id": "97516c51-e26e-4cf0-a38f-b2489f5e92ce",
   "metadata": {},
   "outputs": [
    {
     "data": {
      "image/png": "[encoded data removed]",
      "text/plain": [
       "<Figure size 432x288 with 1 Axes>"
      ]
     },
     "metadata": {
      "needs_background": "light"
     },
     "output_type": "display_data"
    }
   ],
   "source": [
    "Zvals = [x for x, y in zip(randarray1, randarray2) if y < math.exp(-x**2/2)/math.sqrt(2*math.pi)]\n",
    "\n",
    "import matplotlib.pyplot as plt\n",
    "plt.hist(Zvals, bins = 100)\n",
    "plt.show()"
   ]
  },
  {
   "cell_type": "code",
   "execution_count": 17,
   "id": "0f9bff1f-7be3-4518-ba9d-ba3a331747b6",
   "metadata": {},
   "outputs": [
    {
     "data": {
      "text/plain": [
       "4.575736384262237"
      ]
     },
     "execution_count": 17,
     "metadata": {},
     "output_type": "execute_result"
    }
   ],
   "source": [
    "max(Zvals)"
   ]
  },
  {
   "cell_type": "code",
   "execution_count": 18,
   "id": "3e55629c-f018-4279-a43d-b8ddf055b2ca",
   "metadata": {},
   "outputs": [
    {
     "data": {
      "text/plain": [
       "-4.367944114028603"
      ]
     },
     "execution_count": 18,
     "metadata": {},
     "output_type": "execute_result"
    }
   ],
   "source": [
    "min(Zvals)"
   ]
  },
  {
   "cell_type": "code",
   "execution_count": null,
   "id": "dec64cf9-8d74-485f-9a28-c420c23f84c4",
   "metadata": {},
   "outputs": [],
   "source": []
  }
 ],
 "metadata": {
  "kernelspec": {
   "display_name": "Python 3 (ipykernel)",
   "language": "python",
   "name": "python3"
  },
  "language_info": {
   "codemirror_mode": {
    "name": "ipython",
    "version": 3
   },
   "file_extension": ".py",
   "mimetype": "text/x-python",
   "name": "python",
   "nbconvert_exporter": "python",
   "pygments_lexer": "ipython3",
   "version": "3.8.5"
  }
 },
 "nbformat": 4,
 "nbformat_minor": 5
}
