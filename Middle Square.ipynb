{
 "cells": [
  {
   "cell_type": "code",
   "execution_count": 9,
   "id": "e45ec361-f42a-4653-9f94-95d596661727",
   "metadata": {},
   "outputs": [
    {
     "name": "stdout",
     "output_type": "stream",
     "text": [
      "5227 3215 3362 3030 1809 2724 4201 6484 422 1780 1684 8358 8561 2907 4506 3040 2416 8370 569 3237 4781 8579 5992 9040 7216 "
     ]
    }
   ],
   "source": [
    "# This code implements the middle square method for generating random integers.\n",
    "\n",
    "import numpy as np\n",
    "\n",
    "seed = 1234 \n",
    "nums = 25\n",
    "\n",
    "for i in range(nums):\n",
    "    seedsq = seed*seed\n",
    "    seed = seedsq // 100\n",
    "    seed = seed % 10000\n",
    "    print(seed, \"\", end='')  # The 'end' command here prevents a new line from being printed after each output."
   ]
  },
  {
   "cell_type": "code",
   "execution_count": null,
   "id": "ab88e4d3-801d-46b2-8d53-3f4f6c29dbc5",
   "metadata": {},
   "outputs": [],
   "source": []
  }
 ],
 "metadata": {
  "kernelspec": {
   "display_name": "Python 3 (ipykernel)",
   "language": "python",
   "name": "python3"
  },
  "language_info": {
   "codemirror_mode": {
    "name": "ipython",
    "version": 3
   },
   "file_extension": ".py",
   "mimetype": "text/x-python",
   "name": "python",
   "nbconvert_exporter": "python",
   "pygments_lexer": "ipython3",
   "version": "3.8.5"
  }
 },
 "nbformat": 4,
 "nbformat_minor": 5
}
