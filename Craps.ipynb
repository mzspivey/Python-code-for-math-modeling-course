{
 "cells": [
  {
   "cell_type": "code",
   "execution_count": 4,
   "id": "50272ab5-75d6-4861-9f34-31e40802cdea",
   "metadata": {},
   "outputs": [
    {
     "name": "stdout",
     "output_type": "stream",
     "text": [
      "0.49707\n"
     ]
    }
   ],
   "source": [
    "# This is a simulation of the probability of winning the game of craps.\n",
    "\n",
    "import numpy as np\n",
    "rng = np.random.default_rng()\n",
    "\n",
    "nums = 100000\n",
    "win = [-1]*nums  \n",
    "\n",
    "for i in range(nums):\n",
    "    diceroll = rng.integers(1,6,size=2,endpoint=True)\n",
    "    sum_dice = sum(diceroll)\n",
    "    \n",
    "    if sum_dice in [7, 11]:\n",
    "        win[i] = 1\n",
    "    elif sum_dice in [2, 3, 12]:\n",
    "        win[i] = 0\n",
    "    else:\n",
    "        point = sum_dice\n",
    "        \n",
    "        while win[i] == -1:\n",
    "            diceroll = rng.integers(1,6,size=2,endpoint=True)\n",
    "            sum_dice = sum(diceroll)\n",
    "            \n",
    "            if sum_dice == point:\n",
    "                win[i] = 1\n",
    "            elif sum_dice == 7:\n",
    "                win[i] = 0\n",
    "\n",
    "#print(win)\n",
    "print(np.mean(win))"
   ]
  },
  {
   "cell_type": "code",
   "execution_count": null,
   "id": "c9a32b74-b92c-409d-bc79-a162d88dd275",
   "metadata": {},
   "outputs": [],
   "source": []
  },
  {
   "cell_type": "code",
   "execution_count": null,
   "id": "0d882ca4-e837-49c5-8234-89ea5e78fc2c",
   "metadata": {},
   "outputs": [],
   "source": []
  }
 ],
 "metadata": {
  "kernelspec": {
   "display_name": "Python 3 (ipykernel)",
   "language": "python",
   "name": "python3"
  },
  "language_info": {
   "codemirror_mode": {
    "name": "ipython",
    "version": 3
   },
   "file_extension": ".py",
   "mimetype": "text/x-python",
   "name": "python",
   "nbconvert_exporter": "python",
   "pygments_lexer": "ipython3",
   "version": "3.8.5"
  }
 },
 "nbformat": 4,
 "nbformat_minor": 5
}
