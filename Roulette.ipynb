{
 "cells": [
  {
   "cell_type": "markdown",
   "id": "f1c5dbf4-11ba-4e1f-8b43-e884576c52fc",
   "metadata": {},
   "source": [
    "# Bet on Red or Black"
   ]
  },
  {
   "cell_type": "code",
   "execution_count": 18,
   "id": "14449ae6-50a6-4ba5-b817-cfe3dbb02f89",
   "metadata": {},
   "outputs": [
    {
     "data": {
      "text/plain": [
       "[-1, -1, -1, 1, 1, 1, 1, 1, 1, 1, 1, 1, -1, -1, 1, 1, -1, -1, -1, -1]"
      ]
     },
     "execution_count": 18,
     "metadata": {},
     "output_type": "execute_result"
    }
   ],
   "source": [
    "import numpy as np\n",
    "rng = np.random.default_rng()\n",
    "\n",
    "nums = 1000000\n",
    "\n",
    "outcomes = rng.integers(-1,36,size=nums,endpoint=True)  # Setting endpoint = True allows the maximum value (36) to be generated.\n",
    "\n",
    "winnings = []\n",
    "for i in range(nums):\n",
    "    if outcomes[i] <= 0 or outcomes[i] % 2 == 1:\n",
    "        winnings.append(-1)\n",
    "    else:\n",
    "        winnings.append(1)\n",
    "\n",
    "avg = np.mean(winnings)\n",
    "\n",
    "winnings[:20]\n",
    "#print(avg)"
   ]
  },
  {
   "cell_type": "code",
   "execution_count": 19,
   "id": "5e0b6cc3-01c6-4865-9cf9-5d51d7b6666b",
   "metadata": {},
   "outputs": [
    {
     "name": "stdout",
     "output_type": "stream",
     "text": [
      "[0, 1, 2, 12, 13, 16, 17, 18, 19, 20, 23, 24, 26, 28, 31, 32, 33, 36, 37, 41]\n"
     ]
    }
   ],
   "source": [
    "loseindices = [i for i, x in enumerate(winnings) if x == -1]\n",
    "print(loseindices[:20])"
   ]
  },
  {
   "cell_type": "code",
   "execution_count": 20,
   "id": "d3d09558-f58b-4ec8-a8cf-cbdf2fcd9e89",
   "metadata": {},
   "outputs": [
    {
     "name": "stdout",
     "output_type": "stream",
     "text": [
      "[ 1  1 10  1  3  1  1  1  1  3  1  2  2  3  1  1  3  1  4  1]\n"
     ]
    }
   ],
   "source": [
    "losediffs = np.diff(loseindices)\n",
    "print(losediffs[:20])"
   ]
  },
  {
   "cell_type": "code",
   "execution_count": 21,
   "id": "bf269241-1946-4c33-be9a-9c883b755326",
   "metadata": {},
   "outputs": [
    {
     "data": {
      "text/plain": [
       "18"
      ]
     },
     "execution_count": 21,
     "metadata": {},
     "output_type": "execute_result"
    }
   ],
   "source": [
    "longestWinStreak = max(losediffs)-1\n",
    "longestWinStreak"
   ]
  },
  {
   "cell_type": "code",
   "execution_count": 22,
   "id": "2db28791-0eb6-4dcd-bd96-b788e7b7ce03",
   "metadata": {},
   "outputs": [
    {
     "name": "stdout",
     "output_type": "stream",
     "text": [
      "18\n"
     ]
    }
   ],
   "source": [
    "winindices = [i for i, x in enumerate(winnings) if x == 1]\n",
    "windiffs = np.diff(winindices)\n",
    "longestLoseStreak = max(windiffs)-1\n",
    "print(longestLoseStreak)"
   ]
  },
  {
   "cell_type": "markdown",
   "id": "e30193f3-5d9d-4dcb-a588-f958768d51d2",
   "metadata": {},
   "source": [
    "# Bet on Green"
   ]
  },
  {
   "cell_type": "code",
   "execution_count": 23,
   "id": "2f0851d1-3b7f-42ba-b937-946c774ba374",
   "metadata": {},
   "outputs": [
    {
     "name": "stdout",
     "output_type": "stream",
     "text": [
      "-0.048196\n"
     ]
    }
   ],
   "source": [
    "outcomes = rng.integers(-1,36,size=nums,endpoint=True)  # Setting endpoint = True allows the maximum value (36) to be generated.\n",
    "\n",
    "winnings = []\n",
    "for i in range(nums):\n",
    "    if outcomes[i] <= 0:\n",
    "        winnings.append(17)\n",
    "    else:\n",
    "        winnings.append(-1)\n",
    "\n",
    "avg = np.mean(winnings)\n",
    "print(avg)"
   ]
  },
  {
   "cell_type": "code",
   "execution_count": 24,
   "id": "7b8b993b-8db4-4eab-8547-f898fdb8b26b",
   "metadata": {},
   "outputs": [
    {
     "name": "stdout",
     "output_type": "stream",
     "text": [
      "5\n"
     ]
    }
   ],
   "source": [
    "loseindices = [i for i, x in enumerate(winnings) if x == -1]\n",
    "losediffs = np.diff(loseindices)\n",
    "longestWinStreak = max(losediffs)-1\n",
    "print(longestWinStreak)"
   ]
  },
  {
   "cell_type": "code",
   "execution_count": 25,
   "id": "59b21673-9820-4af1-bba5-207a9fcd49ab",
   "metadata": {},
   "outputs": [
    {
     "name": "stdout",
     "output_type": "stream",
     "text": [
      "203\n"
     ]
    }
   ],
   "source": [
    "winindices = [i for i, x in enumerate(winnings) if x == 17]\n",
    "windiffs = np.diff(winindices)\n",
    "longestLoseStreak = max(windiffs)-1\n",
    "print(longestLoseStreak)"
   ]
  },
  {
   "cell_type": "code",
   "execution_count": null,
   "id": "8d33c34c-c392-419c-b5d1-b5f0dfa418f7",
   "metadata": {},
   "outputs": [],
   "source": []
  }
 ],
 "metadata": {
  "kernelspec": {
   "display_name": "Python 3 (ipykernel)",
   "language": "python",
   "name": "python3"
  },
  "language_info": {
   "codemirror_mode": {
    "name": "ipython",
    "version": 3
   },
   "file_extension": ".py",
   "mimetype": "text/x-python",
   "name": "python",
   "nbconvert_exporter": "python",
   "pygments_lexer": "ipython3",
   "version": "3.8.5"
  }
 },
 "nbformat": 4,
 "nbformat_minor": 5
}
