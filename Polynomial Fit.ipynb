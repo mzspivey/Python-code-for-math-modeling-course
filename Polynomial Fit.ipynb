{
 "cells": [
  {
   "cell_type": "code",
   "execution_count": 6,
   "id": "8bb461d9-ff29-4c3d-8f77-839ec2099c8a",
   "metadata": {},
   "outputs": [
    {
     "name": "stdout",
     "output_type": "stream",
     "text": [
      "[ 2.24671632e-05 -8.17937986e+02  2.59469106e+03 -3.47070604e+03\n",
      "  2.65505669e+03 -1.31638543e+03  4.52484776e+02 -1.12214976e+02\n",
      "  2.05624691e+01 -2.81985928e+00  2.90498352e-01 -2.23685170e-02\n",
      "  1.26767994e-03 -5.13037268e-05  1.40261255e-06 -2.32049731e-08\n",
      "  1.75410003e-10]\n"
     ]
    }
   ],
   "source": [
    "# This code illustrates why a model that is a perfect fit to the training data is not likely a good model.\n",
    "# A 16-degree polynomial can perfectly fit a data set with 17 data points, but it's horrible for predicting values off of that data set.\n",
    "\n",
    "import numpy as np\n",
    "import matplotlib.pyplot as plt\n",
    "\n",
    "speed = [x for x in range(0,17)]\n",
    "StoppingData = [0, 3, 6, 11, 21, 32, 47, 65, 87, 112, 140, 171, 204, 241, 282, 325, 376]\n",
    "\n",
    "interp_poly = np.polynomial.polynomial.polyfit(speed,StoppingData,16)  # This will output an array consisting of \n",
    "# the coefficients of the polynomial fit, starting with the constant and going up to the coefficient of x^16.\n",
    "\n",
    "print(interp_poly)"
   ]
  },
  {
   "cell_type": "code",
   "execution_count": 7,
   "id": "fa8cf034-5b15-400c-941d-b3d26541604a",
   "metadata": {},
   "outputs": [],
   "source": [
    "plotspeed = np.linspace(-1,17,100)  # This creates a set of 100 evenly spaced points between -1 and 17.  We need this to evaluate the polynomial fit."
   ]
  },
  {
   "cell_type": "code",
   "execution_count": 8,
   "id": "ecaecf4d-6bc4-4251-9598-ce7d44732953",
   "metadata": {},
   "outputs": [],
   "source": [
    "predict = np.polynomial.polynomial.polyval(plotspeed,interp_poly)  # This creates the points on the polynomial."
   ]
  },
  {
   "cell_type": "code",
   "execution_count": 9,
   "id": "cb5dea61-1f2f-4323-a80f-1a178b716181",
   "metadata": {},
   "outputs": [
    {
     "data": {
      "text/plain": [
       "<matplotlib.collections.PathCollection at 0x14f57e1e940>"
      ]
     },
     "execution_count": 9,
     "metadata": {},
     "output_type": "execute_result"
    },
    {
     "data": {
      "image/png": "[encoded data removed]",
      "text/plain": [
       "<Figure size 432x288 with 1 Axes>"
      ]
     },
     "metadata": {
      "needs_background": "light"
     },
     "output_type": "display_data"
    }
   ],
   "source": [
    "plt.plot(plotspeed,predict)\n",
    "plt.scatter(speed,StoppingData)"
   ]
  },
  {
   "cell_type": "code",
   "execution_count": 10,
   "id": "82e86495-8977-438f-9639-3bea405641bb",
   "metadata": {},
   "outputs": [
    {
     "data": {
      "text/plain": [
       "array([-63.06197862,   3.00007659,  12.78440527,   6.00001915,\n",
       "         5.85503773,  11.00001758,  16.41606017,  21.00001935,\n",
       "        75.52714248, 333.29939589])"
      ]
     },
     "execution_count": 10,
     "metadata": {},
     "output_type": "execute_result"
    }
   ],
   "source": [
    "np.polynomial.polynomial.polyval([0.5, 1, 1.5, 2, 2.5, 3, 3.5, 4, 7.5, 15.5],interp_poly)"
   ]
  },
  {
   "cell_type": "code",
   "execution_count": null,
   "id": "53c7b341-d428-4067-97c7-6c3c7f74e85c",
   "metadata": {},
   "outputs": [],
   "source": []
  }
 ],
 "metadata": {
  "kernelspec": {
   "display_name": "Python 3 (ipykernel)",
   "language": "python",
   "name": "python3"
  },
  "language_info": {
   "codemirror_mode": {
    "name": "ipython",
    "version": 3
   },
   "file_extension": ".py",
   "mimetype": "text/x-python",
   "name": "python",
   "nbconvert_exporter": "python",
   "pygments_lexer": "ipython3",
   "version": "3.8.5"
  }
 },
 "nbformat": 4,
 "nbformat_minor": 5
}
