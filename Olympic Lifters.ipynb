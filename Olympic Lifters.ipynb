{
 "cells": [
  {
   "cell_type": "code",
   "execution_count": 1,
   "id": "dc8273d5-7cd0-4027-a55a-ea338205d1da",
   "metadata": {},
   "outputs": [
    {
     "data": {
      "text/plain": [
       "<matplotlib.collections.PathCollection at 0x1f356c10e20>"
      ]
     },
     "execution_count": 1,
     "metadata": {},
     "output_type": "execute_result"
    },
    {
     "data": {
      "image/png": "[encoded data removed]",
      "text/plain": [
       "<Figure size 432x288 with 1 Axes>"
      ]
     },
     "metadata": {
      "needs_background": "light"
     },
     "output_type": "display_data"
    }
   ],
   "source": [
    "# How do you compare Olympic lifters across different weight classes?\n",
    "# One proposed hypothesis is to offset the max lift by the highest weight in the weight class. \n",
    "# This code visually tests that hypothesis as a model.\n",
    "\n",
    "import matplotlib.pyplot as plt\n",
    "\n",
    "WeightMen = [56, 62, 69, 77, 85, 94, 105]\n",
    "LiftMen = [305, 325, 357.5, 376.5, 390, 405, 425]\n",
    "\n",
    "WeightWomen = [48, 53, 63, 75]\n",
    "LiftWomen = [185, 225, 242.5, 245]\n",
    "\n",
    "# I removed the largest category because it didn't have a true max weight.\n",
    "\n",
    "plt.scatter(WeightMen,LiftMen)  # These produce scatterplots.\n",
    "plt.scatter(WeightWomen,LiftWomen)"
   ]
  },
  {
   "cell_type": "code",
   "execution_count": 2,
   "id": "17c7482f-f1bc-49c4-a182-9a8cbd11134c",
   "metadata": {},
   "outputs": [
    {
     "data": {
      "text/plain": [
       "<matplotlib.collections.PathCollection at 0x1f356d23fa0>"
      ]
     },
     "execution_count": 2,
     "metadata": {},
     "output_type": "execute_result"
    },
    {
     "data": {
      "image/png": "[encoded data removed]",
      "text/plain": [
       "<Figure size 432x288 with 1 Axes>"
      ]
     },
     "metadata": {
      "needs_background": "light"
     },
     "output_type": "display_data"
    }
   ],
   "source": [
    "plt.figure() \n",
    "MenLdiffW = [L - W for L, W in zip(LiftMen, WeightMen)] # List comprehension with two lists\n",
    "WomenLdiffW = [L - W for L, W in zip(LiftWomen, WeightWomen)] \n",
    "plt.scatter(WeightMen, MenLdiffW)\n",
    "plt.scatter(WeightWomen, WomenLdiffW)"
   ]
  },
  {
   "cell_type": "code",
   "execution_count": 4,
   "id": "efb0e012-87a5-4f6a-84e7-ff7b21924e73",
   "metadata": {},
   "outputs": [],
   "source": []
  },
  {
   "cell_type": "code",
   "execution_count": null,
   "id": "7ccec8cc-72c2-4cdb-92f3-0747ada74b21",
   "metadata": {},
   "outputs": [],
   "source": []
  }
 ],
 "metadata": {
  "kernelspec": {
   "display_name": "Python 3 (ipykernel)",
   "language": "python",
   "name": "python3"
  },
  "language_info": {
   "codemirror_mode": {
    "name": "ipython",
    "version": 3
   },
   "file_extension": ".py",
   "mimetype": "text/x-python",
   "name": "python",
   "nbconvert_exporter": "python",
   "pygments_lexer": "ipython3",
   "version": "3.8.5"
  }
 },
 "nbformat": 4,
 "nbformat_minor": 5
}
