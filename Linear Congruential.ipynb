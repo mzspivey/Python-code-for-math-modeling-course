{
 "cells": [
  {
   "cell_type": "code",
   "execution_count": 10,
   "id": "72667c0e-0fcd-4db6-930a-774a15f0772a",
   "metadata": {},
   "outputs": [
    {
     "name": "stdout",
     "output_type": "stream",
     "text": [
      "5 6 13 14 5 6 13 14 5 6 13 14 5 6 13 14 5 6 13 14 "
     ]
    }
   ],
   "source": [
    "# This code implements the linear congruential method for generating random integers.\n",
    "\n",
    "import numpy as np\n",
    "\n",
    "nums = 20\n",
    "a = 7\n",
    "b = 3\n",
    "c = 16\n",
    "x = 270  # This will be the seed.\n",
    "\n",
    "for i in range(nums):\n",
    "    x = (a * x + b) % c\n",
    "    print(x, \"\", end='')"
   ]
  },
  {
   "cell_type": "code",
   "execution_count": null,
   "id": "8b53a369-fb2e-487e-8ed1-41929ce9035d",
   "metadata": {},
   "outputs": [],
   "source": []
  }
 ],
 "metadata": {
  "kernelspec": {
   "display_name": "Python 3 (ipykernel)",
   "language": "python",
   "name": "python3"
  },
  "language_info": {
   "codemirror_mode": {
    "name": "ipython",
    "version": 3
   },
   "file_extension": ".py",
   "mimetype": "text/x-python",
   "name": "python",
   "nbconvert_exporter": "python",
   "pygments_lexer": "ipython3",
   "version": "3.8.5"
  }
 },
 "nbformat": 4,
 "nbformat_minor": 5
}
