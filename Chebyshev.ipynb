{
 "cells": [
  {
   "cell_type": "code",
   "execution_count": 1,
   "id": "4c24d167-d342-4d32-945b-6c82cd230cf9",
   "metadata": {},
   "outputs": [
    {
     "name": "stdout",
     "output_type": "stream",
     "text": [
      "[1.44590164]\n"
     ]
    }
   ],
   "source": [
    "# This code implements the Chebyshev approximation criterion for fitting a model to a dataset.\n",
    "\n",
    "import matplotlib.pyplot as plt\n",
    "import scipy.optimize as optimize\n",
    "\n",
    "def Cheby(params):\n",
    "    # print(params)  # <-- you'll see that params is a NumPy array.  For this example, params is a single element.  But it could be a larger array.\n",
    "    a = params # <-- for readability you may wish to assign names to the component variables\n",
    "    \n",
    "    speed = [x for x in range(0,17)]\n",
    "    StoppingData = [0, 3, 6, 11, 21, 32, 47, 65, 87, 112, 140, 171, 204, 241, 282, 325, 376]\n",
    "    \n",
    "    residual = [y - a*(x**2) for y,x in zip(StoppingData, speed)] \n",
    "    abs_residual = [abs(x) for x in residual]\n",
    "    max_abs_resid = max(abs_residual)\n",
    "    return max_abs_resid\n",
    "\n",
    "initial_guess = 1  # If you want to do multivariate optimization, initialize this as a list rather than a single value.\n",
    "\n",
    "# Here you pass the function that you want to optimize, along with an initial guess, to the minimize function.\n",
    "result = optimize.minimize(Cheby, initial_guess)  \n",
    "\n",
    "fitted_params = result.x  # This is the value we want, the value of the parameter that minimizes the function.\n",
    "print(fitted_params)"
   ]
  },
  {
   "cell_type": "code",
   "execution_count": 2,
   "id": "59afcd07-49c4-419c-b383-ea8ad28d99b3",
   "metadata": {},
   "outputs": [],
   "source": [
    "speed = [x for x in range(0,17)]\n",
    "StoppingData = [0, 3, 6, 11, 21, 32, 47, 65, 87, 112, 140, 171, 204, 241, 282, 325, 376]"
   ]
  },
  {
   "cell_type": "code",
   "execution_count": 3,
   "id": "47e8a0ce-808b-4a28-857e-6b4fa9f64d75",
   "metadata": {},
   "outputs": [
    {
     "data": {
      "text/plain": [
       "<matplotlib.collections.PathCollection at 0x1fbee763f40>"
      ]
     },
     "execution_count": 3,
     "metadata": {},
     "output_type": "execute_result"
    },
    {
     "data": {
      "image/png": "[encoded data removed]",
      "text/plain": [
       "<Figure size 432x288 with 1 Axes>"
      ]
     },
     "metadata": {
      "needs_background": "light"
     },
     "output_type": "display_data"
    }
   ],
   "source": [
    "predict = [fitted_params*(x**2) for x in speed] \n",
    "plt.scatter(speed, StoppingData)\n",
    "plt.scatter(speed, predict)"
   ]
  },
  {
   "cell_type": "code",
   "execution_count": 4,
   "id": "307e9df9-f8b5-4f51-a9d6-bae68aeee880",
   "metadata": {},
   "outputs": [
    {
     "data": {
      "text/plain": [
       "[<matplotlib.lines.Line2D at 0x1fbee8912b0>]"
      ]
     },
     "execution_count": 4,
     "metadata": {},
     "output_type": "execute_result"
    },
    {
     "data": {
      "image/png": "[encoded data removed]",
      "text/plain": [
       "<Figure size 432x288 with 1 Axes>"
      ]
     },
     "metadata": {
      "needs_background": "light"
     },
     "output_type": "display_data"
    }
   ],
   "source": [
    "residual = [y-x for y,x in zip(StoppingData,predict)]\n",
    "plt.plot(residual)"
   ]
  },
  {
   "cell_type": "code",
   "execution_count": 7,
   "id": "4706ab50-d6bd-42b2-a4e8-890a9947458f",
   "metadata": {},
   "outputs": [
    {
     "name": "stdout",
     "output_type": "stream",
     "text": [
      "[1.91485421]\n"
     ]
    }
   ],
   "source": [
    "import math\n",
    "\n",
    "def Chebylog(params):\n",
    "    # print(params)  # <-- you'll see that params is a NumPy array\n",
    "    a = params # <-- for readability you may wish to assign names to the component variables\n",
    "    \n",
    "    speed = [x for x in range(0,17)]\n",
    "    logspeed = [math.log(x) for x in speed[1:]]\n",
    "    StoppingData = [0, 3, 6, 11, 21, 32, 47, 65, 87, 112, 140, 171, 204, 241, 282, 325, 376]\n",
    "    logStop = [math.log(x) for x in StoppingData[1:]]\n",
    "    \n",
    "    residual = [y - math.log(a) - 2*x for y,x in zip(logStop, logspeed)] \n",
    "    abs_residual = [abs(x) for x in residual]\n",
    "    max_abs_resid = max(abs_residual)\n",
    "    return max_abs_resid\n",
    "\n",
    "initial_guess = 1\n",
    "\n",
    "result = optimize.minimize(Chebylog, initial_guess)  \n",
    "\n",
    "fitted_params_log = result.x \n",
    "print(fitted_params_log)"
   ]
  },
  {
   "cell_type": "code",
   "execution_count": 8,
   "id": "fa1a3569-58a5-4735-a14a-fe369d922280",
   "metadata": {},
   "outputs": [
    {
     "data": {
      "text/plain": [
       "<matplotlib.collections.PathCollection at 0x1fbee976940>"
      ]
     },
     "execution_count": 8,
     "metadata": {},
     "output_type": "execute_result"
    },
    {
     "data": {
      "image/png": "[encoded data removed]",
      "text/plain": [
       "<Figure size 432x288 with 1 Axes>"
      ]
     },
     "metadata": {
      "needs_background": "light"
     },
     "output_type": "display_data"
    }
   ],
   "source": [
    "predictlog = [fitted_params_log*(x**2) for x in speed] \n",
    "plt.scatter(speed, StoppingData)\n",
    "plt.scatter(speed, predictlog)"
   ]
  },
  {
   "cell_type": "code",
   "execution_count": null,
   "id": "fde7ee4a-8487-451b-a9e4-96fbd12dcfb8",
   "metadata": {},
   "outputs": [],
   "source": []
  }
 ],
 "metadata": {
  "kernelspec": {
   "display_name": "Python 3 (ipykernel)",
   "language": "python",
   "name": "python3"
  },
  "language_info": {
   "codemirror_mode": {
    "name": "ipython",
    "version": 3
   },
   "file_extension": ".py",
   "mimetype": "text/x-python",
   "name": "python",
   "nbconvert_exporter": "python",
   "pygments_lexer": "ipython3",
   "version": "3.8.5"
  }
 },
 "nbformat": 4,
 "nbformat_minor": 5
}
