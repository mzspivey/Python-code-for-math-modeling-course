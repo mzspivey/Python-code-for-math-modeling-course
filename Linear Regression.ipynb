{
 "cells": [
  {
   "cell_type": "code",
   "execution_count": 5,
   "id": "6ec2714a-8b6d-432a-a7e3-ec47c63a90aa",
   "metadata": {},
   "outputs": [
    {
     "name": "stdout",
     "output_type": "stream",
     "text": [
      "[[  1.   0.]\n",
      " [  1.   1.]\n",
      " [  1.   4.]\n",
      " [  1.   9.]\n",
      " [  1.  16.]\n",
      " [  1.  25.]\n",
      " [  1.  36.]\n",
      " [  1.  49.]\n",
      " [  1.  64.]\n",
      " [  1.  81.]\n",
      " [  1. 100.]\n",
      " [  1. 121.]\n",
      " [  1. 144.]\n",
      " [  1. 169.]\n",
      " [  1. 196.]\n",
      " [  1. 225.]\n",
      " [  1. 256.]]\n"
     ]
    },
    {
     "name": "stderr",
     "output_type": "stream",
     "text": [
      "C:\\Users\\mspivey\\Anaconda3\\lib\\site-packages\\scipy\\stats\\stats.py:1541: UserWarning: kurtosistest only valid for n>=20 ... continuing anyway, n=17\n",
      "  warnings.warn(\"kurtosistest only valid for n>=20 ... continuing \"\n"
     ]
    },
    {
     "data": {
      "text/html": [
       "<table class=\"simpletable\">\n",
       "<caption>OLS Regression Results</caption>\n",
       "<tr>\n",
       "  <th>Dep. Variable:</th>            <td>y</td>        <th>  R-squared:         </th> <td>   0.999</td> \n",
       "</tr>\n",
       "<tr>\n",
       "  <th>Model:</th>                   <td>OLS</td>       <th>  Adj. R-squared:    </th> <td>   0.999</td> \n",
       "</tr>\n",
       "<tr>\n",
       "  <th>Method:</th>             <td>Least Squares</td>  <th>  F-statistic:       </th> <td>2.548e+04</td>\n",
       "</tr>\n",
       "<tr>\n",
       "  <th>Date:</th>             <td>Thu, 10 Feb 2022</td> <th>  Prob (F-statistic):</th> <td>1.20e-25</td> \n",
       "</tr>\n",
       "<tr>\n",
       "  <th>Time:</th>                 <td>13:12:06</td>     <th>  Log-Likelihood:    </th> <td> -42.051</td> \n",
       "</tr>\n",
       "<tr>\n",
       "  <th>No. Observations:</th>      <td>    17</td>      <th>  AIC:               </th> <td>   88.10</td> \n",
       "</tr>\n",
       "<tr>\n",
       "  <th>Df Residuals:</th>          <td>    15</td>      <th>  BIC:               </th> <td>   89.77</td> \n",
       "</tr>\n",
       "<tr>\n",
       "  <th>Df Model:</th>              <td>     1</td>      <th>                     </th>     <td> </td>    \n",
       "</tr>\n",
       "<tr>\n",
       "  <th>Covariance Type:</th>      <td>nonrobust</td>    <th>                     </th>     <td> </td>    \n",
       "</tr>\n",
       "</table>\n",
       "<table class=\"simpletable\">\n",
       "<tr>\n",
       "    <td></td>       <th>coef</th>     <th>std err</th>      <th>t</th>      <th>P>|t|</th>  <th>[0.025</th>    <th>0.975]</th>  \n",
       "</tr>\n",
       "<tr>\n",
       "  <th>const</th> <td>   -3.2776</td> <td>    1.093</td> <td>   -2.999</td> <td> 0.009</td> <td>   -5.607</td> <td>   -0.948</td>\n",
       "</tr>\n",
       "<tr>\n",
       "  <th>x1</th>    <td>    1.4564</td> <td>    0.009</td> <td>  159.610</td> <td> 0.000</td> <td>    1.437</td> <td>    1.476</td>\n",
       "</tr>\n",
       "</table>\n",
       "<table class=\"simpletable\">\n",
       "<tr>\n",
       "  <th>Omnibus:</th>       <td> 2.773</td> <th>  Durbin-Watson:     </th> <td>   0.389</td>\n",
       "</tr>\n",
       "<tr>\n",
       "  <th>Prob(Omnibus):</th> <td> 0.250</td> <th>  Jarque-Bera (JB):  </th> <td>   2.132</td>\n",
       "</tr>\n",
       "<tr>\n",
       "  <th>Skew:</th>          <td> 0.827</td> <th>  Prob(JB):          </th> <td>   0.344</td>\n",
       "</tr>\n",
       "<tr>\n",
       "  <th>Kurtosis:</th>      <td> 2.478</td> <th>  Cond. No.          </th> <td>    177.</td>\n",
       "</tr>\n",
       "</table><br/><br/>Notes:<br/>[1] Standard Errors assume that the covariance matrix of the errors is correctly specified."
      ],
      "text/plain": [
       "<class 'statsmodels.iolib.summary.Summary'>\n",
       "\"\"\"\n",
       "                            OLS Regression Results                            \n",
       "==============================================================================\n",
       "Dep. Variable:                      y   R-squared:                       0.999\n",
       "Model:                            OLS   Adj. R-squared:                  0.999\n",
       "Method:                 Least Squares   F-statistic:                 2.548e+04\n",
       "Date:                Thu, 10 Feb 2022   Prob (F-statistic):           1.20e-25\n",
       "Time:                        13:12:06   Log-Likelihood:                -42.051\n",
       "No. Observations:                  17   AIC:                             88.10\n",
       "Df Residuals:                      15   BIC:                             89.77\n",
       "Df Model:                           1                                         \n",
       "Covariance Type:            nonrobust                                         \n",
       "==============================================================================\n",
       "                 coef    std err          t      P>|t|      [0.025      0.975]\n",
       "------------------------------------------------------------------------------\n",
       "const         -3.2776      1.093     -2.999      0.009      -5.607      -0.948\n",
       "x1             1.4564      0.009    159.610      0.000       1.437       1.476\n",
       "==============================================================================\n",
       "Omnibus:                        2.773   Durbin-Watson:                   0.389\n",
       "Prob(Omnibus):                  0.250   Jarque-Bera (JB):                2.132\n",
       "Skew:                           0.827   Prob(JB):                        0.344\n",
       "Kurtosis:                       2.478   Cond. No.                         177.\n",
       "==============================================================================\n",
       "\n",
       "Notes:\n",
       "[1] Standard Errors assume that the covariance matrix of the errors is correctly specified.\n",
       "\"\"\""
      ]
     },
     "execution_count": 5,
     "metadata": {},
     "output_type": "execute_result"
    }
   ],
   "source": [
    "# This code illustrates the use of linear regression to fit a quadratic model to a data set.\n",
    "\n",
    "import matplotlib.pyplot as plt\n",
    "import numpy as np\n",
    "import statsmodels.api as sm\n",
    "\n",
    "speed = [x for x in range(0,17)]\n",
    "StoppingData = [0, 3, 6, 11, 21, 32, 47, 65, 87, 112, 140, 171, 204, 241, 282, 325, 376]\n",
    "y = StoppingData\n",
    "\n",
    "speedsquared = [x**2 for x in speed]  # We're going to be regressing the stopping data on the squares of the speed values.\n",
    "\n",
    "x = sm.add_constant(speedsquared)  \n",
    "# This is a technical aspect of the OLS function that we're using.  \n",
    "# Since we're working with a model yhat = a + bx^2, or yhat = a(1) + bx^2, the OLS function is expecting a 2D array of\n",
    "# 1's and the squares of the speeds, so that each input data point looks like [1, speedvalue^2]. \n",
    "\n",
    "print(x) # Just to see what things look like.\n",
    "\n",
    "\n",
    "results = sm.OLS(y,x).fit()\n",
    "\n",
    "results.summary()"
   ]
  },
  {
   "cell_type": "code",
   "execution_count": 6,
   "id": "72421978-8bb0-46cf-8308-4c8dd239a8f8",
   "metadata": {},
   "outputs": [
    {
     "data": {
      "text/plain": [
       "[<matplotlib.lines.Line2D at 0x15e19be5b50>]"
      ]
     },
     "execution_count": 6,
     "metadata": {},
     "output_type": "execute_result"
    },
    {
     "data": {
      "image/png": "[encoded data removed]",
      "text/plain": [
       "<Figure size 432x288 with 1 Axes>"
      ]
     },
     "metadata": {
      "needs_background": "light"
     },
     "output_type": "display_data"
    }
   ],
   "source": [
    "const = -3.278\n",
    "lincoeff = 1.456\n",
    "yhat = [const + lincoeff*x for x in speedsquared]\n",
    "plt.scatter(speed, y)\n",
    "plt.plot(speed,yhat,c='orange')"
   ]
  },
  {
   "cell_type": "code",
   "execution_count": 8,
   "id": "fb6def43-3834-434d-80fd-d0132a0409c3",
   "metadata": {},
   "outputs": [
    {
     "data": {
      "text/plain": [
       "array([[1.        , 0.99970573],\n",
       "       [0.99970573, 1.        ]])"
      ]
     },
     "execution_count": 8,
     "metadata": {},
     "output_type": "execute_result"
    }
   ],
   "source": [
    "r = np.corrcoef(speedsquared,y)\n",
    "r"
   ]
  },
  {
   "cell_type": "code",
   "execution_count": 7,
   "id": "9b263a6e-8ea7-468b-8317-87c12af08f03",
   "metadata": {},
   "outputs": [
    {
     "data": {
      "text/plain": [
       "[<matplotlib.lines.Line2D at 0x15e19c59640>]"
      ]
     },
     "execution_count": 7,
     "metadata": {},
     "output_type": "execute_result"
    },
    {
     "data": {
      "image/png": "[encoded data removed]",
      "text/plain": [
       "<Figure size 432x288 with 1 Axes>"
      ]
     },
     "metadata": {
      "needs_background": "light"
     },
     "output_type": "display_data"
    }
   ],
   "source": [
    "residual = [x - y for x,y in zip(StoppingData,yhat)]\n",
    "plt.plot(residual)"
   ]
  },
  {
   "cell_type": "code",
   "execution_count": null,
   "id": "b15d87a0-d49c-49f5-b360-43378b3970a9",
   "metadata": {},
   "outputs": [],
   "source": []
  }
 ],
 "metadata": {
  "kernelspec": {
   "display_name": "Python 3 (ipykernel)",
   "language": "python",
   "name": "python3"
  },
  "language_info": {
   "codemirror_mode": {
    "name": "ipython",
    "version": 3
   },
   "file_extension": ".py",
   "mimetype": "text/x-python",
   "name": "python",
   "nbconvert_exporter": "python",
   "pygments_lexer": "ipython3",
   "version": "3.8.5"
  }
 },
 "nbformat": 4,
 "nbformat_minor": 5
}
